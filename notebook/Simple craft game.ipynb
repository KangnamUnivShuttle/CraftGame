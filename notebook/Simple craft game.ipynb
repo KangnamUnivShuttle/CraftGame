{
 "cells": [
  {
   "cell_type": "code",
   "execution_count": 1,
   "id": "33ceac18",
   "metadata": {},
   "outputs": [],
   "source": [
    "from ipycanvas import Canvas"
   ]
  },
  {
   "cell_type": "code",
   "execution_count": 2,
   "id": "6ef4b8fd",
   "metadata": {},
   "outputs": [
    {
     "data": {
      "application/vnd.jupyter.widget-view+json": {
       "model_id": "ec6c49a1788047a6b1609f6674c80bbb",
       "version_major": 2,
       "version_minor": 0
      },
      "text/plain": [
       "Canvas(height=640, width=256)"
      ]
     },
     "metadata": {},
     "output_type": "display_data"
    }
   ],
   "source": [
    "canvas = Canvas(width=256, height=640)\n",
    "canvas"
   ]
  },
  {
   "cell_type": "code",
   "execution_count": 7,
   "id": "58cb729e",
   "metadata": {},
   "outputs": [],
   "source": [
    "canvas.layout.width = '192px'\n",
    "canvas.layout.height = '480px'"
   ]
  },
  {
   "cell_type": "code",
   "execution_count": 4,
   "id": "0797192d",
   "metadata": {},
   "outputs": [],
   "source": [
    "canvas.clear()"
   ]
  },
  {
   "cell_type": "code",
   "execution_count": 5,
   "id": "90ffe646",
   "metadata": {},
   "outputs": [],
   "source": [
    "canvas.fill_style = '#F7F3D9'"
   ]
  },
  {
   "cell_type": "code",
   "execution_count": 6,
   "id": "fa95458b",
   "metadata": {},
   "outputs": [],
   "source": [
    "canvas.fill_rect(0, 0, canvas.width, canvas.height)"
   ]
  }
 ],
 "metadata": {
  "kernelspec": {
   "display_name": "Python 3 (ipykernel)",
   "language": "python",
   "name": "python3"
  },
  "language_info": {
   "codemirror_mode": {
    "name": "ipython",
    "version": 3
   },
   "file_extension": ".py",
   "mimetype": "text/x-python",
   "name": "python",
   "nbconvert_exporter": "python",
   "pygments_lexer": "ipython3",
   "version": "3.9.7"
  }
 },
 "nbformat": 4,
 "nbformat_minor": 5
}
