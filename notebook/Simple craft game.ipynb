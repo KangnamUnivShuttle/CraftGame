{
 "cells": [
  {
   "cell_type": "code",
   "execution_count": 1,
   "id": "7bde4fe6",
   "metadata": {},
   "outputs": [],
   "source": [
    "from ipycanvas import Canvas"
   ]
  },
  {
   "cell_type": "code",
   "execution_count": 8,
   "id": "16dde65e",
   "metadata": {},
   "outputs": [
    {
     "data": {
      "application/vnd.jupyter.widget-view+json": {
       "model_id": "29c3646ccf0f457a9083f14b4c54bab5",
       "version_major": 2,
       "version_minor": 0
      },
      "text/plain": [
       "Canvas(height=320, width=256)"
      ]
     },
     "metadata": {},
     "output_type": "display_data"
    }
   ],
   "source": [
    "canvas = Canvas(width=256, height=320)\n",
    "canvas"
   ]
  },
  {
   "cell_type": "code",
   "execution_count": 13,
   "id": "0836b3fe",
   "metadata": {},
   "outputs": [],
   "source": [
    "canvas.layout.width = '256px'\n",
    "canvas.layout.height = '320px'"
   ]
  },
  {
   "cell_type": "code",
   "execution_count": 14,
   "id": "3cca18b6",
   "metadata": {},
   "outputs": [],
   "source": [
    "canvas.clear()"
   ]
  },
  {
   "cell_type": "code",
   "execution_count": 15,
   "id": "1f08ca72",
   "metadata": {},
   "outputs": [],
   "source": [
    "canvas.fill_style = '#F7F3D9'"
   ]
  },
  {
   "cell_type": "code",
   "execution_count": 16,
   "id": "714410a5",
   "metadata": {},
   "outputs": [],
   "source": [
    "canvas.fill_rect(0, 0, canvas.width, canvas.height)"
   ]
  },
  {
   "cell_type": "code",
   "execution_count": null,
   "id": "ed27fb7a",
   "metadata": {},
   "outputs": [],
   "source": []
  }
 ],
 "metadata": {
  "kernelspec": {
   "display_name": "Python 3 (ipykernel)",
   "language": "python",
   "name": "python3"
  },
  "language_info": {
   "codemirror_mode": {
    "name": "ipython",
    "version": 3
   },
   "file_extension": ".py",
   "mimetype": "text/x-python",
   "name": "python",
   "nbconvert_exporter": "python",
   "pygments_lexer": "ipython3",
   "version": "3.9.7"
  }
 },
 "nbformat": 4,
 "nbformat_minor": 5
}
